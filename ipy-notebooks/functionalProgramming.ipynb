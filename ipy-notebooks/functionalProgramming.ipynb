{
 "metadata": {
  "name": "functionalProgramming"
 }, 
 "nbformat": 2, 
 "worksheets": [
  {
   "cells": [
    {
     "cell_type": "markdown", 
     "source": [
      "## map"
     ]
    }, 
    {
     "cell_type": "markdown", 
     "source": [
      "One of the common things we do with list and other sequences is applying an operation to each item and collect the result. For example, updating all the items in a list can be done easily with a for loop:"
     ]
    }, 
    {
     "cell_type": "code", 
     "collapsed": false, 
     "input": [
      ">>> items = [1, 2, 3, 4, 5]", 
      ">>> squared = []", 
      ">>> for x in items:", 
      "\tsquared.append(x ** 2)\t", 
      ">>> squared"
     ], 
     "language": "python", 
     "outputs": [
      {
       "output_type": "pyout", 
       "prompt_number": 3, 
       "text": [
        "[1, 4, 9, 16, 25]"
       ]
      }
     ], 
     "prompt_number": 3
    }, 
    {
     "cell_type": "markdown", 
     "source": [
      "Since this is such a common operation. We have a built-in feature that does most of the work for us. The map(aFunction, aSequence) function applies a passed-in function to each item in an iterable object and returns a list containing all the function call results."
     ]
    }, 
    {
     "cell_type": "code", 
     "collapsed": false, 
     "input": [
      ">>> items = [1, 2, 3, 4, 5]", 
      ">>> def sqr(x): return x ** 2", 
      ">>> list(map(sqr, items))"
     ], 
     "language": "python", 
     "outputs": [
      {
       "output_type": "pyout", 
       "prompt_number": 4, 
       "text": [
        "[1, 4, 9, 16, 25]"
       ]
      }
     ], 
     "prompt_number": 4
    }, 
    {
     "cell_type": "code", 
     "collapsed": false, 
     "input": [
      "map(sqr, items)"
     ], 
     "language": "python", 
     "outputs": [
      {
       "output_type": "pyout", 
       "prompt_number": 6, 
       "text": [
        "[1, 4, 9, 16, 25]"
       ]
      }
     ], 
     "prompt_number": 6
    }, 
    {
     "cell_type": "markdown", 
     "source": [
      "We passed in a user-defined function applied to each item in the list. map calls sqr on each list item and collects all the return values into a new list.", 
      "", 
      "Because **map** expects a function to be passed in, it also happens to be one of the places where lambda routinely appears:"
     ]
    }, 
    {
     "cell_type": "code", 
     "collapsed": false, 
     "input": [
      "list(map((lambda x: x **2), items))"
     ], 
     "language": "python", 
     "outputs": [
      {
       "output_type": "pyout", 
       "prompt_number": 8, 
       "text": [
        "[1, 4, 9, 16, 25]"
       ]
      }
     ], 
     "prompt_number": 8
    }, 
    {
     "cell_type": "code", 
     "collapsed": false, 
     "input": [
      "map((lambda x: x **2), items)"
     ], 
     "language": "python", 
     "outputs": [
      {
       "output_type": "pyout", 
       "prompt_number": 9, 
       "text": [
        "[1, 4, 9, 16, 25]"
       ]
      }
     ], 
     "prompt_number": 9
    }, 
    {
     "cell_type": "markdown", 
     "source": [
      "In the short example above, the **lambda** function squares each item in the items list.", 
      "", 
      "Because such uses of map are equivalent to for loops, with an extra code we can always write a general mapping utility:"
     ]
    }, 
    {
     "cell_type": "code", 
     "collapsed": false, 
     "input": [
      ">>> def mymap(aFunc, aSeq):", 
      "\tresult = []", 
      "\tfor x in aSeq: result.append(aFunc(x))", 
      "\treturn result", 
      "", 
      ">>> list(map(sqr, [1, 2, 3]))", 
      "[1, 4, 9]", 
      ">>> mymap(sqr, [1, 2, 3])", 
      "[1, 4, 9]"
     ], 
     "language": "python", 
     "outputs": [
      {
       "output_type": "pyout", 
       "prompt_number": 10, 
       "text": [
        "[1, 4, 9]"
       ]
      }
     ], 
     "prompt_number": 10
    }, 
    {
     "cell_type": "markdown", 
     "source": [
      "Since it's a built-in, map is always available and always works the same way. It also has some performance benefit because it is usually faster than a manually coded for loop. On top of those, map can be used in more advance way. For example, given multiple sequence arguments, it sends items taken form sequences in parallel as distinct arguments to the function:"
     ]
    }, 
    {
     "cell_type": "code", 
     "collapsed": false, 
     "input": [
      ">>> pow(2,10)", 
      "1024", 
      ">>> pow(3,11)", 
      "177147", 
      ">>> pow(4,12)", 
      "16777216", 
      ">>> ", 
      ">>> list(map(pow,[2, 3, 4], [10, 11, 12]))", 
      "[1024, 177147, 16777216]"
     ], 
     "language": "python", 
     "outputs": [
      {
       "output_type": "pyout", 
       "prompt_number": 12, 
       "text": [
        "[1024, 177147, 16777216]"
       ]
      }
     ], 
     "prompt_number": 12
    }, 
    {
     "cell_type": "markdown", 
     "source": [
      "As in the example above, with multiple sequences, map expects an N-argument function for N sequences. In the example, pow function takes two arguments on each call.", 
      "", 
      "The map call is similar to the list comprehension expression. But map applies a function call to each item instead of an arbitrary expression. Because of this limitation, it is somewhat less general tool. In some cases, however, map may be faster to run than a list comprehension such as when mapping a built-in function. And map requires less coding."
     ]
    }, 
    {
     "cell_type": "markdown", 
     "source": [
      "## filter and reduce"
     ]
    }, 
    {
     "cell_type": "markdown", 
     "source": [
      "As the name suggests filter extracts each element in the sequence for which the function returns True. The reduce function is a little less obvious in its intent. This function reduces a list to a single value by combining elements via a supplied function.", 
      "", 
      "The map function is the simplest one among Python built-ins used for functional programming. These tools apply functions to sequences and other iterables. The filter filters out items based on a test function which is filter and apply functions to pairs of item and running result which is reduce.", 
      "", 
      "Because they return iterables, range and filter both require list calls to display all their results in Python 3.0.", 
      "", 
      "As an example, the following filter call picks out items in a sequence that are less than zero:"
     ]
    }, 
    {
     "cell_type": "code", 
     "collapsed": false, 
     "input": [
      ">>> list(range(-5,5))", 
      "[-5, -4, -3, -2, -1, 0, 1, 2, 3, 4]", 
      "", 
      ">>> list(filter((lambda x: x < 0), range(-5,5)))", 
      "[-5, -4, -3, -2, -1]"
     ], 
     "language": "python", 
     "outputs": [
      {
       "output_type": "pyout", 
       "prompt_number": 14, 
       "text": [
        "[-5, -4, -3, -2, -1]"
       ]
      }
     ], 
     "prompt_number": 14
    }, 
    {
     "cell_type": "markdown", 
     "source": [
      "Items in the sequence or iterable for which the function returns a true, the result are added to the result list. Like map, this function is roughly equivalent to a for loop, but it is built-in and fast:"
     ]
    }, 
    {
     "cell_type": "code", 
     "collapsed": false, 
     "input": [
      ">>> result = []", 
      ">>> for x in range(-5, 5):", 
      "\tif x < 0:", 
      "\t\tresult.append(x)", 
      "", 
      "\t\t", 
      ">>> result"
     ], 
     "language": "python", 
     "outputs": [
      {
       "output_type": "pyout", 
       "prompt_number": 15, 
       "text": [
        "[-5, -4, -3, -2, -1]"
       ]
      }
     ], 
     "prompt_number": 15
    }, 
    {
     "cell_type": "markdown", 
     "source": [
      "The reduce is in the functools in Python 3.0. It is more complex. It accepts an iterator to process, but it's not an iterator itself. It returns a single result:"
     ]
    }, 
    {
     "cell_type": "code", 
     "collapsed": false, 
     "input": [
      ">>> from functools import reduce", 
      ">>> reduce( (lambda x, y: x * y), [1, 2, 3, 4] )"
     ], 
     "language": "python", 
     "outputs": [
      {
       "output_type": "pyout", 
       "prompt_number": 20, 
       "text": [
        "24"
       ]
      }
     ], 
     "prompt_number": 20
    }, 
    {
     "cell_type": "code", 
     "collapsed": false, 
     "input": [
      ">>> reduce( (lambda x, y: x + y), [1, 2, 3, 4] )"
     ], 
     "language": "python", 
     "outputs": [
      {
       "output_type": "pyout", 
       "prompt_number": 23, 
       "text": [
        "10"
       ]
      }
     ], 
     "prompt_number": 23
    }, 
    {
     "cell_type": "markdown", 
     "source": [
      "At each step, reduce passes the current product or division, along with the next item from the list, to the passed-in lambda function. By default, the first item in the sequence initialized the starting value.", 
      "", 
      "Here's the for loop version of the first of these calls, with the multiplication hardcoded inside the loop:"
     ]
    }, 
    {
     "cell_type": "code", 
     "collapsed": false, 
     "input": [
      ">>> L = [1, 2, 3, 4]", 
      ">>> result = L[0]", 
      ">>> for x in L[1:]:", 
      "\tresult = result * x\t", 
      ">>> result"
     ], 
     "language": "python", 
     "outputs": [
      {
       "output_type": "pyout", 
       "prompt_number": 25, 
       "text": [
        "24"
       ]
      }
     ], 
     "prompt_number": 25
    }, 
    {
     "cell_type": "markdown", 
     "source": [
      "Let's make our own version of reduce."
     ]
    }, 
    {
     "cell_type": "code", 
     "collapsed": false, 
     "input": [
      ">>> def myreduce(fnc, seq):", 
      "\ttally = seq[0]", 
      "\tfor next in seq[1:]:", 
      "\t\ttally = fnc(tally, next)", 
      "\treturn tally", 
      "", 
      ">>> myreduce( (lambda x, y: x * y), [1, 2, 3, 4])"
     ], 
     "language": "python", 
     "outputs": [
      {
       "output_type": "pyout", 
       "prompt_number": 26, 
       "text": [
        "24"
       ]
      }
     ], 
     "prompt_number": 26
    }, 
    {
     "cell_type": "code", 
     "collapsed": false, 
     "input": [
      ">>> myreduce( (lambda x, y: x + y), [1, 2, 3, 4])"
     ], 
     "language": "python", 
     "outputs": [
      {
       "output_type": "pyout", 
       "prompt_number": 28, 
       "text": [
        "10"
       ]
      }
     ], 
     "prompt_number": 28
    }, 
    {
     "cell_type": "markdown", 
     "source": [
      "We can concatenate a list of strings to make a sentence. Using the *Dijkstra*'s famous quote on bug:"
     ]
    }, 
    {
     "cell_type": "code", 
     "collapsed": false, 
     "input": [
      "import functools", 
      ">>> L = ['Testing ', 'shows ', 'the ', 'presence', ', ','not ', 'the ', 'absence ', 'of ', 'bugs']", 
      ">>> functools.reduce( (lambda x,y:x+y), L)"
     ], 
     "language": "python", 
     "outputs": [
      {
       "output_type": "pyout", 
       "prompt_number": 29, 
       "text": [
        "'Testing shows the presence, not the absence of bugs'"
       ]
      }
     ], 
     "prompt_number": 29
    }, 
    {
     "cell_type": "markdown", 
     "source": [
      "We can get the same result by using join :"
     ]
    }, 
    {
     "cell_type": "code", 
     "collapsed": false, 
     "input": [
      ">>> ''.join(L)"
     ], 
     "language": "python", 
     "outputs": [
      {
       "output_type": "pyout", 
       "prompt_number": 30, 
       "text": [
        "'Testing shows the presence, not the absence of bugs'"
       ]
      }
     ], 
     "prompt_number": 30
    }, 
    {
     "cell_type": "markdown", 
     "source": [
      "We can also use operator to produce the same result:"
     ]
    }, 
    {
     "cell_type": "code", 
     "collapsed": false, 
     "input": [
      ">>> import functools, operator", 
      ">>> functools.reduce(operator.add, L)"
     ], 
     "language": "python", 
     "outputs": [
      {
       "output_type": "pyout", 
       "prompt_number": 31, 
       "text": [
        "'Testing shows the presence, not the absence of bugs'"
       ]
      }
     ], 
     "prompt_number": 31
    }, 
    {
     "cell_type": "markdown", 
     "source": [
      "The built-in reduce also allows an optional third argument placed before the items in the sequence to serve as a default result when the sequence is empty."
     ]
    }
   ]
  }
 ]
}