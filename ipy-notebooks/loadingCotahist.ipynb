{
 "metadata": {
  "name": "loadingCotahist"
 }, 
 "nbformat": 2, 
 "worksheets": [
  {
   "cells": [
    {
     "cell_type": "markdown", 
     "source": [
      "# Loading cotahist files into memory", 
      "## Objectives", 
      "- Look up a directory and load each file"
     ]
    }, 
    {
     "cell_type": "code", 
     "collapsed": true, 
     "input": [
      "import os", 
      "filepath = 'stockExperiments/data/cotahist'"
     ], 
     "language": "python", 
     "outputs": [], 
     "prompt_number": 18
    }, 
    {
     "cell_type": "code", 
     "collapsed": true, 
     "input": [
      "import bovespaparser.bovespaparser as bp"
     ], 
     "language": "python", 
     "outputs": [], 
     "prompt_number": 5
    }, 
    {
     "cell_type": "code", 
     "collapsed": true, 
     "input": [
      "def parseFile(filename):", 
      "    with open(filename, 'r') as f:", 
      "        return bp.parsedata(f)"
     ], 
     "language": "python", 
     "outputs": [], 
     "prompt_number": 13
    }, 
    {
     "cell_type": "code", 
     "collapsed": true, 
     "input": [
      "def _getfilepath(name):", 
      "    path = os.path.split(__file__)[0]", 
      "    return os.path.join(path, name)"
     ], 
     "language": "python", 
     "outputs": [], 
     "prompt_number": 14
    }, 
    {
     "cell_type": "code", 
     "collapsed": true, 
     "input": [
      "import re", 
      "pattern = re.compile('^COTAHIST_A[\\d]{4}.txt')", 
      "for filename in [fn for fn in os.listdir(filepath) if re.match(pattern,  fn) != None]:    ", 
      "    # print parseFile(os.path.join(filepath, filename))", 
      "    print os.path.join(filepath, filename)"
     ], 
     "language": "python", 
     "outputs": [], 
     "prompt_number": 22
    }
   ]
  }
 ]
}