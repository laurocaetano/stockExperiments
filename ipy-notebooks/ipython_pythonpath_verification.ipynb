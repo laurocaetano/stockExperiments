{
 "metadata": {
  "name": "ipython_pythonpath_verification"
 },
 "nbformat": 3,
 "nbformat_minor": 0,
 "worksheets": [
  {
   "cells": [
    {
     "cell_type": "code",
     "collapsed": false,
     "input": [
      "import sys\n",
      "sys.path"
     ],
     "language": "python",
     "metadata": {},
     "outputs": [
      {
       "output_type": "pyout",
       "prompt_number": 1,
       "text": [
        "['',\n",
        " '/data/resemblanceProfiles/oncast-linux-PC/config/.virtualenvs/stockExperiments/lib/python2.7/site-packages',\n",
        " '',\n",
        " '/data/resemblanceProfiles/oncast-linux-PC/config/.virtualenvs/finantial/local/lib/python2.7/site-packages/distribute-0.6.24-py2.7.egg',\n",
        " '/data/resemblanceProfiles/oncast-linux-PC/config/.virtualenvs/finantial/local/lib/python2.7/site-packages/pip-1.1-py2.7.egg',\n",
        " '/data/resemblanceProfiles/oncast-linux-PC/config/.virtualenvs/stockExperiments/lib/python2.7/site-packages/distribute-0.6.24-py2.7.egg',\n",
        " '/data/resemblanceProfiles/oncast-linux-PC/config/.virtualenvs/stockExperiments/lib/python2.7/site-packages/pip-1.1-py2.7.egg',\n",
        " '/data/resemblanceProfiles/oncast-linux-PC/config/.virtualenvs/finantial/lib/python2.7/site-packages/distribute-0.6.24-py2.7.egg',\n",
        " '/data/resemblanceProfiles/oncast-linux-PC/config/.virtualenvs/finantial/lib/python2.7/site-packages/pip-1.1-py2.7.egg',\n",
        " '/home/rhlobo/dev/workspace-py/stockExperiments/stockExperiments',\n",
        " '/data/resemblanceProfiles/oncast-linux-PC/config/.virtualenvs/finantial/lib/python2.7',\n",
        " '/data/resemblanceProfiles/oncast-linux-PC/config/.virtualenvs/finantial/lib/python2.7/plat-linux2',\n",
        " '/data/resemblanceProfiles/oncast-linux-PC/config/.virtualenvs/finantial/lib/python2.7/lib-tk',\n",
        " '/data/resemblanceProfiles/oncast-linux-PC/config/.virtualenvs/finantial/lib/python2.7/lib-old',\n",
        " '/data/resemblanceProfiles/oncast-linux-PC/config/.virtualenvs/finantial/lib/python2.7/lib-dynload',\n",
        " '/usr/lib/python2.7',\n",
        " '/usr/lib/python2.7/plat-linux2',\n",
        " '/usr/lib/python2.7/lib-tk',\n",
        " '/data/resemblanceProfiles/oncast-linux-PC/config/.virtualenvs/finantial/local/lib/python2.7/site-packages',\n",
        " '/data/resemblanceProfiles/oncast-linux-PC/config/.virtualenvs/finantial/lib/python2.7/site-packages',\n",
        " '/data/resemblanceProfiles/oncast-linux-PC/config/.virtualenvs/finantial/local/lib/python2.7/site-packages/IPython/extensions']"
       ]
      }
     ],
     "prompt_number": 1
    },
    {
     "cell_type": "code",
     "collapsed": false,
     "input": [
      "import providers.base"
     ],
     "language": "python",
     "metadata": {},
     "outputs": [],
     "prompt_number": 2
    }
   ],
   "metadata": {}
  }
 ]
}