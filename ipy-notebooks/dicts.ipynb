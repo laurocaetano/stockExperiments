{
 "metadata": {
  "name": "dicts"
 }, 
 "nbformat": 2, 
 "worksheets": [
  {
   "cells": [
    {
     "cell_type": "markdown", 
     "source": [
      "Dict Hash Table", 
      "===============", 
      "", 
      "http://code.google.com/edu/languages/google-python-class/dict-files.html"
     ]
    }, 
    {
     "cell_type": "code", 
     "collapsed": false, 
     "input": [
      "## Can build up a dict by starting with the the empty dict {}", 
      "## and storing key/value pairs into the dict like this:", 
      "## dict[key] = value-for-that-key", 
      "dict = {}", 
      "dict['a'] = 'alpha'", 
      "dict['g'] = 'gamma'", 
      "dict['o'] = 'omega'", 
      "", 
      "print dict  ## {'a': 'alpha', 'o': 'omega', 'g': 'gamma'}"
     ], 
     "language": "python", 
     "outputs": [
      {
       "output_type": "stream", 
       "stream": "stdout", 
       "text": [
        "{'a': 'alpha', 'o': 'omega', 'g': 'gamma'}"
       ]
      }
     ], 
     "prompt_number": 2
    }, 
    {
     "cell_type": "code", 
     "collapsed": false, 
     "input": [
      "print dict['a']     ## Simple lookup, returns 'alpha'", 
      "dict['a'] = 6       ## Put new key/value into dict"
     ], 
     "language": "python", 
     "outputs": [
      {
       "output_type": "stream", 
       "stream": "stdout", 
       "text": [
        "6"
       ]
      }
     ], 
     "prompt_number": 4
    }, 
    {
     "cell_type": "code", 
     "collapsed": false, 
     "input": [
      "'a' in dict         ## True"
     ], 
     "language": "python", 
     "outputs": [
      {
       "output_type": "pyout", 
       "prompt_number": 6, 
       "text": [
        "True"
       ]
      }
     ], 
     "prompt_number": 6
    }, 
    {
     "cell_type": "code", 
     "collapsed": false, 
     "input": [
      "'s' in dict         ## False"
     ], 
     "language": "python", 
     "outputs": [
      {
       "output_type": "pyout", 
       "prompt_number": 7, 
       "text": [
        "False"
       ]
      }
     ], 
     "prompt_number": 7
    }, 
    {
     "cell_type": "code", 
     "collapsed": false, 
     "input": [
      "try:", 
      "    print dict['z']                  ## Throws KeyError", 
      "except KeyError:", 
      "    print \"Erro!!\""
     ], 
     "language": "python", 
     "outputs": [
      {
       "output_type": "stream", 
       "stream": "stdout", 
       "text": [
        "Erro!!"
       ]
      }
     ], 
     "prompt_number": 12
    }, 
    {
     "cell_type": "code", 
     "collapsed": true, 
     "input": [
      "if 'z' in dict: print dict['z']     ## Avoid KeyError"
     ], 
     "language": "python", 
     "outputs": [], 
     "prompt_number": 15
    }, 
    {
     "cell_type": "code", 
     "collapsed": false, 
     "input": [
      "print dict.get('z')  ## None (instead of KeyError)"
     ], 
     "language": "python", 
     "outputs": [
      {
       "output_type": "stream", 
       "stream": "stdout", 
       "text": [
        "None"
       ]
      }
     ], 
     "prompt_number": 16
    }, 
    {
     "cell_type": "code", 
     "collapsed": false, 
     "input": [
      "dict['z'] = 'existe'", 
      "", 
      "def getIt(key):", 
      "    return \"nao existe\" if key not in dict else dict[key]", 
      "", 
      "print getIt('z')", 
      "print getIt('x')"
     ], 
     "language": "python", 
     "outputs": [
      {
       "output_type": "stream", 
       "stream": "stdout", 
       "text": [
        "existe", 
        "nao existe"
       ]
      }
     ], 
     "prompt_number": 18
    }, 
    {
     "cell_type": "code", 
     "collapsed": false, 
     "input": [
      "## By default, iterating over a dict iterates over its keys.", 
      "## Note that the keys are in a random order.", 
      "for key in dict: print key", 
      "## prints a g o z"
     ], 
     "language": "python", 
     "outputs": [
      {
       "output_type": "stream", 
       "stream": "stdout", 
       "text": [
        "a", 
        "z", 
        "o", 
        "g"
       ]
      }
     ], 
     "prompt_number": 20
    }, 
    {
     "cell_type": "code", 
     "collapsed": false, 
     "input": [
      "## Exactly the same as above", 
      "for key in dict.keys(): print key"
     ], 
     "language": "python", 
     "outputs": [
      {
       "output_type": "stream", 
       "stream": "stdout", 
       "text": [
        "a", 
        "z", 
        "o", 
        "g"
       ]
      }
     ], 
     "prompt_number": 27
    }, 
    {
     "cell_type": "code", 
     "collapsed": false, 
     "input": [
      "## Get the .keys() list:", 
      "print dict.keys()  ## ['a', 'o', 'g']"
     ], 
     "language": "python", 
     "outputs": [
      {
       "output_type": "stream", 
       "stream": "stdout", 
       "text": [
        "['a', 'z', 'o', 'g']"
       ]
      }
     ], 
     "prompt_number": 28
    }, 
    {
     "cell_type": "code", 
     "collapsed": false, 
     "input": [
      "## Likewise, there's a .values() list of values", 
      "print dict.values()  ## ['alpha', 'omega', 'gamma']"
     ], 
     "language": "python", 
     "outputs": [
      {
       "output_type": "stream", 
       "stream": "stdout", 
       "text": [
        "[6, 'existe', 'omega', 'gamma']"
       ]
      }
     ], 
     "prompt_number": 30
    }, 
    {
     "cell_type": "code", 
     "collapsed": false, 
     "input": [
      "## Common case -- loop over the keys in sorted order,", 
      "## accessing each key/value", 
      "for key in sorted(dict.keys()):", 
      "  print key, dict[key]"
     ], 
     "language": "python", 
     "outputs": [
      {
       "output_type": "stream", 
       "stream": "stdout", 
       "text": [
        "a 6", 
        "g gamma", 
        "o omega", 
        "z existe"
       ]
      }
     ], 
     "prompt_number": 32
    }, 
    {
     "cell_type": "code", 
     "collapsed": false, 
     "input": [
      "## .items() is the dict expressed as (key, value) tuples", 
      "print dict.items()  ##  [('a', 'alpha'), ('o', 'omega'), ('g', 'gamma')]"
     ], 
     "language": "python", 
     "outputs": [
      {
       "output_type": "stream", 
       "stream": "stdout", 
       "text": [
        "[('a', 6), ('z', 'existe'), ('o', 'omega'), ('g', 'gamma')]"
       ]
      }
     ], 
     "prompt_number": 33
    }, 
    {
     "cell_type": "code", 
     "collapsed": false, 
     "input": [
      "## This loop syntax accesses the whole dict by looping", 
      "## over the .items() tuple list, accessing one (key, value)", 
      "## pair on each iteration.", 
      "for k, v in dict.items(): print k, '>', v", 
      "## a > alpha    o > omega     g > gamma"
     ], 
     "language": "python", 
     "outputs": [
      {
       "output_type": "stream", 
       "stream": "stdout", 
       "text": [
        "a > 6", 
        "z > existe", 
        "o > omega", 
        "g > gamma"
       ]
      }
     ], 
     "prompt_number": 34
    }, 
    {
     "cell_type": "code", 
     "collapsed": false, 
     "input": [
      "var = 6", 
      "del var  # var no more!", 
      "  ", 
      "list = ['a', 'b', 'c', 'd']", 
      "del list[0]     ## Delete first element", 
      "del list[-2:]   ## Delete last two elements", 
      "print list      ## ['b']", 
      "", 
      "dict = {'a':1, 'b':2, 'c':3}", 
      "del dict['b']   ## Delete 'b' entry", 
      "print dict      ## {'a':1, 'c':3}"
     ], 
     "language": "python", 
     "outputs": [
      {
       "output_type": "stream", 
       "stream": "stdout", 
       "text": [
        "['b']", 
        "{'a': 1, 'c': 3}"
       ]
      }
     ], 
     "prompt_number": 35
    }
   ]
  }
 ]
}